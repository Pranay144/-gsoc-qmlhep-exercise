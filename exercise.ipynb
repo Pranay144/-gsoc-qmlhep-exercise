{
 "cells": [
  {
   "cell_type": "markdown",
   "metadata": {},
   "source": [
    "# Machine Learning Part\n",
    "\n"
   ]
  },
  {
   "cell_type": "code",
   "execution_count": null,
   "metadata": {},
   "outputs": [],
   "source": [
    "import numpy as np\n",
    "from numpy import load\n",
    "import pandas as pd\n",
    "import matplotlib.pyplot as plt\n",
    "from sklearn.metrics import roc_auc_score, accuracy_score, roc_curve, classification_report, plot_roc_curve\n",
    "\n",
    "from sklearn.ensemble import GradientBoostingClassifier\n",
    "from sklearn.metrics import auc"
   ]
  },
  {
   "cell_type": "code",
   "execution_count": null,
   "metadata": {},
   "outputs": [],
   "source": [
    "# load data\n",
    "data = load('QIS_EXAM_200Events.npz', allow_pickle=True)\n",
    "lst = data.files\n",
    "train = data['training_input']\n",
    "test = data['test_input']\n",
    "\n",
    "# prepare data\n",
    "train_data = train[()]\n",
    "test_data = test[()]\n",
    "\n",
    "# prepare testing_data\n",
    "for k, v in test_data.items():\n",
    "    labels = np.array([k for k,v in test_data.items()])\n",
    "\n",
    "zero_label_test = np.array([0]*len(test_data['0']))\n",
    "one_label_test = np.array([1]*len(test_data['1']))\n",
    "test_system_events = test_data['1']\n",
    "test_background_events = test_data['0']\n",
    "\n",
    "test_events = np.concatenate((test_background_events,test_system_events))      # events for testing\n",
    "test_labels = np.concatenate((zero_label_test,one_label_test))                 # test events labels"
   ]
  },
  {
   "cell_type": "code",
   "execution_count": null,
   "metadata": {},
   "outputs": [],
   "source": [
    "# prepare training_data\n",
    "for k, v in train_data.items():\n",
    "    labels = np.array([k for k,v in train_data.items()])\n",
    "\n",
    "zero_label = np.array([0]*len(train_data['0']))                 # form numpy array for 0 labels\n",
    "one_label = np.array([1]*len(train_data['1']))                  # form numpy array for 1 labels\n",
    "system_events = train_data['1']\n",
    "background_events = train_data['0']\n",
    "\n",
    "events = np.concatenate((background_events,system_events))      # concat Signal events & Background events in one numpy array\n",
    "labels = np.concatenate((zero_label,one_label))                 # concat Labels 0 & 1 for signal events and background events resp.\n"
   ]
  },
  {
   "cell_type": "markdown",
   "metadata": {},
   "source": [
    "#### * Finding best parameters"
   ]
  },
  {
   "cell_type": "code",
   "execution_count": null,
   "metadata": {},
   "outputs": [],
   "source": [
    "# learning rate\n",
    "\n",
    "learning_rates = [1, 0.5, 0.25, 0.1, 0.05, 0.01]\n",
    "train_results = []\n",
    "test_results = []\n",
    "for eta in learning_rates:\n",
    "   model = GradientBoostingClassifier(learning_rate=eta)\n",
    "   model.fit(events,labels)\n",
    "   train_pred = model.predict(events)\n",
    "   false_positive_rate, true_positive_rate, thresholds = roc_curve(labels, train_pred)\n",
    "   roc_auc = auc(false_positive_rate, true_positive_rate)\n",
    "   train_results.append(roc_auc)\n",
    "   y_pred = model.predict(test_events)\n",
    "   false_positive_rate, true_positive_rate, thresholds = roc_curve(test_labels, y_pred)\n",
    "   roc_auc = auc(false_positive_rate, true_positive_rate)\n",
    "   test_results.append(roc_auc)\n",
    "from matplotlib.legend_handler import HandlerLine2D\n",
    "line1, = plt.plot(learning_rates, train_results, 'b', label=\"Train AUC\")\n",
    "line2, = plt.plot(learning_rates, test_results, 'r', label=\"Test AUC\")\n",
    "plt.legend(handler_map={line1: HandlerLine2D(numpoints=2)})\n",
    "plt.ylabel('AUC score')\n",
    "plt.xlabel('learning rate')\n",
    "plt.show()"
   ]
  },
  {
   "attachments": {},
   "cell_type": "markdown",
   "metadata": {},
   "source": [
    "![learning_rate](img/learning_rate.png)"
   ]
  },
  {
   "cell_type": "code",
   "execution_count": null,
   "metadata": {},
   "outputs": [],
   "source": [
    "# max_depth\n",
    "\n",
    "max_depths = np.linspace(1, 32, 32, endpoint=True)\n",
    "train_results = []\n",
    "test_results = []\n",
    "for eta in max_depths:\n",
    "   model = GradientBoostingClassifier(max_depth=eta)\n",
    "   model.fit(events,labels)\n",
    "   train_pred = model.predict(events)\n",
    "   false_positive_rate, true_positive_rate, thresholds = roc_curve(labels, train_pred)\n",
    "   roc_auc = auc(false_positive_rate, true_positive_rate)\n",
    "   train_results.append(roc_auc)\n",
    "   y_pred = model.predict(test_events)\n",
    "   false_positive_rate, true_positive_rate, thresholds = roc_curve(test_labels, y_pred)\n",
    "   roc_auc = auc(false_positive_rate, true_positive_rate)\n",
    "   test_results.append(roc_auc)\n",
    "from matplotlib.legend_handler import HandlerLine2D\n",
    "line1, = plt.plot(max_depths, train_results, 'b', label=\"Train AUC\")\n",
    "line2, = plt.plot(max_depths, test_results, 'r', label=\"Test AUC\")\n",
    "plt.legend(handler_map={line1: HandlerLine2D(numpoints=2)})\n",
    "plt.ylabel('AUC score')\n",
    "plt.xlabel('max_depth')\n",
    "plt.show()"
   ]
  },
  {
   "attachments": {},
   "cell_type": "markdown",
   "metadata": {},
   "source": [
    "![max_depth](img/max_depth.PNG)"
   ]
  },
  {
   "cell_type": "code",
   "execution_count": null,
   "metadata": {},
   "outputs": [],
   "source": [
    "# min_sample_split\n",
    "\n",
    "min_samples_splits = [0.2, 0.4, 0.6, 0.8, 1.0]\n",
    "train_results = []\n",
    "test_results = []\n",
    "for eta in min_samples_splits:\n",
    "   model = GradientBoostingClassifier(min_samples_split=eta)\n",
    "   model.fit(events,labels)\n",
    "   train_pred = model.predict(events)\n",
    "   false_positive_rate, true_positive_rate, thresholds = roc_curve(labels, train_pred)\n",
    "   roc_auc = auc(false_positive_rate, true_positive_rate)\n",
    "   train_results.append(roc_auc)\n",
    "   y_pred = model.predict(test_events)\n",
    "   false_positive_rate, true_positive_rate, thresholds = roc_curve(test_labels, y_pred)\n",
    "   roc_auc = auc(false_positive_rate, true_positive_rate)\n",
    "   test_results.append(roc_auc)\n",
    "from matplotlib.legend_handler import HandlerLine2D\n",
    "line1, = plt.plot(min_samples_splits, train_results, 'b', label=\"Train AUC\")\n",
    "line2, = plt.plot(min_samples_splits, test_results, 'r', label=\"Test AUC\")\n",
    "plt.legend(handler_map={line1: HandlerLine2D(numpoints=2)})\n",
    "plt.ylabel('AUC score')\n",
    "plt.xlabel('min_samples_splits')\n",
    "plt.show()"
   ]
  },
  {
   "attachments": {},
   "cell_type": "markdown",
   "metadata": {},
   "source": [
    "![min_sample_split](img/min_sample_split.PNG)"
   ]
  },
  {
   "cell_type": "code",
   "execution_count": null,
   "metadata": {},
   "outputs": [],
   "source": [
    "# max_samples_leaf\n",
    "\n",
    "min_samples_leafs = np.linspace(0.1, 0.5, 5, endpoint=True)\n",
    "train_results = []\n",
    "test_results = []\n",
    "for eta in min_samples_leafs:\n",
    "   model = GradientBoostingClassifier(min_samples_leaf=eta)\n",
    "   model.fit(events,labels)\n",
    "   train_pred = model.predict(events)\n",
    "   false_positive_rate, true_positive_rate, thresholds = roc_curve(labels, train_pred)\n",
    "   roc_auc = auc(false_positive_rate, true_positive_rate)\n",
    "   train_results.append(roc_auc)\n",
    "   y_pred = model.predict(test_events)\n",
    "   false_positive_rate, true_positive_rate, thresholds = roc_curve(test_labels, y_pred)\n",
    "   roc_auc = auc(false_positive_rate, true_positive_rate)\n",
    "   test_results.append(roc_auc)\n",
    "from matplotlib.legend_handler import HandlerLine2D\n",
    "line1, = plt.plot(min_samples_leafs, train_results, 'b', label=\"Train AUC\")\n",
    "line2, = plt.plot(min_samples_leafs, test_results, 'r', label=\"Test AUC\")\n",
    "plt.legend(handler_map={line1: HandlerLine2D(numpoints=2)})\n",
    "plt.ylabel('AUC score')\n",
    "plt.xlabel('min_samples_leaf')\n",
    "plt.show()"
   ]
  },
  {
   "attachments": {},
   "cell_type": "markdown",
   "metadata": {},
   "source": [
    "![min_samples_leaf](img/:min_samples_leaf.PNG)"
   ]
  },
  {
   "cell_type": "code",
   "execution_count": null,
   "metadata": {},
   "outputs": [],
   "source": [
    "# n_estimators\n",
    "\n",
    "n_estimators = [1, 2, 4, 8, 16, 32, 64, 100, 200]\n",
    "train_results = []\n",
    "test_results = []\n",
    "for eta in n_estimators:\n",
    "   model = GradientBoostingClassifier(n_estimators=eta)\n",
    "   model.fit(events,labels)\n",
    "   train_pred = model.predict(events)\n",
    "   false_positive_rate, true_positive_rate, thresholds = roc_curve(labels, train_pred)\n",
    "   roc_auc = auc(false_positive_rate, true_positive_rate)\n",
    "   train_results.append(roc_auc)\n",
    "   y_pred = model.predict(test_events)\n",
    "   false_positive_rate, true_positive_rate, thresholds = roc_curve(test_labels, y_pred)\n",
    "   roc_auc = auc(false_positive_rate, true_positive_rate)\n",
    "   test_results.append(roc_auc)\n",
    "from matplotlib.legend_handler import HandlerLine2D\n",
    "line1, = plt.plot(n_estimators, train_results, 'b', label=\"Train AUC\")\n",
    "line2, = plt.plot(n_estimators, test_results, 'r', label=\"Test AUC\")\n",
    "plt.legend(handler_map={line1: HandlerLine2D(numpoints=2)})\n",
    "plt.ylabel('AUC score')\n",
    "plt.xlabel('n_estimators')\n",
    "plt.show()"
   ]
  },
  {
   "attachments": {},
   "cell_type": "markdown",
   "metadata": {},
   "source": [
    "![n_estimators](img/n_estimators.PNG)"
   ]
  },
  {
   "cell_type": "code",
   "execution_count": null,
   "metadata": {},
   "outputs": [],
   "source": [
    "# Train GBClassifier\n",
    "# Using best hyperparameters\n",
    "\n",
    "decision_boosted = GradientBoostingClassifier(\n",
    "    learning_rate=0.01,\n",
    "    max_depth=3,\n",
    "    min_samples_split=1.0,\n",
    "    min_samples_leaf=0.5,\n",
    "    n_estimators=2,\n",
    "    )\n",
    "decision_boosted.fit(events,labels)"
   ]
  },
  {
   "cell_type": "markdown",
   "metadata": {},
   "source": [
    "GradientBoostingClassifier(ccp_alpha=0.0, criterion='friedman_mse', init=None, <br>\n",
    "                          $\\;\\;\\;\\;\\;\\;\\;\\;\\;\\;\\;\\;\\;\\;\\;\\;\\;\\;\\;\\;\\;\\;\\;$learning_rate=0.01, loss='deviance', max_depth=3,<br>\n",
    "                           $\\;\\;\\;\\;\\;\\;\\;\\;\\;\\;\\;\\;\\;\\;\\;\\;\\;\\;\\;\\;\\;\\;\\;$max_features=None, max_leaf_nodes=None,<br>\n",
    "                           $\\;\\;\\;\\;\\;\\;\\;\\;\\;\\;\\;\\;\\;\\;\\;\\;\\;\\;\\;\\;\\;\\;\\;$min_impurity_decrease=0.0, min_impurity_split=None,<br>\n",
    "                           $\\;\\;\\;\\;\\;\\;\\;\\;\\;\\;\\;\\;\\;\\;\\;\\;\\;\\;\\;\\;\\;\\;\\;$min_samples_leaf=0.5, min_samples_split=1.0,<br>\n",
    "                           $\\;\\;\\;\\;\\;\\;\\;\\;\\;\\;\\;\\;\\;\\;\\;\\;\\;\\;\\;\\;\\;\\;\\;$min_weight_fraction_leaf=0.0, n_estimators=2,<br>\n",
    "                           $\\;\\;\\;\\;\\;\\;\\;\\;\\;\\;\\;\\;\\;\\;\\;\\;\\;\\;\\;\\;\\;\\;\\;$n_iter_no_change=None, presort='deprecated',<br>\n",
    "                           $\\;\\;\\;\\;\\;\\;\\;\\;\\;\\;\\;\\;\\;\\;\\;\\;\\;\\;\\;\\;\\;\\;\\;$random_state=None, subsample=1.0, tol=0.0001,<br>\n",
    "                           $\\;\\;\\;\\;\\;\\;\\;\\;\\;\\;\\;\\;\\;\\;\\;\\;\\;\\;\\;\\;\\;\\;\\;$validation_fraction=0.1, verbose=0,<br>\n",
    "                           $\\;\\;\\;\\;\\;\\;\\;\\;\\;\\;\\;\\;\\;\\;\\;\\;\\;\\;\\;\\;\\;\\;\\;$warm_start=False)"
   ]
  },
  {
   "cell_type": "code",
   "execution_count": null,
   "metadata": {},
   "outputs": [],
   "source": [
    "# GBclassifier prediction\n",
    "\n",
    "predictions_decision_boosted = decision_boosted.predict(test_events)      # predict on test_events\n",
    "\n",
    "acc = accuracy_score(test_labels, predictions_decision_boosted)\n",
    "print(\"Classification Accuracy: {}\".format(acc))\n",
    "\n",
    "# Classification report\n",
    "\n",
    "print(classification_report(test_labels, predictions_decision_boosted))"
   ]
  },
  {
   "attachments": {},
   "cell_type": "markdown",
   "metadata": {},
   "source": [
    "![classification_report](img/classification_report.PNG)"
   ]
  },
  {
   "cell_type": "code",
   "execution_count": null,
   "metadata": {},
   "outputs": [],
   "source": [
    "# Area under ROC curve(AUC)\n",
    "\n",
    "roc_auc_score(test_labels , predictions_decision_boosted)\n",
    "plot_roc_curve(decision_boosted,test_events,test_labels)"
   ]
  },
  {
   "attachments": {},
   "cell_type": "markdown",
   "metadata": {},
   "source": [
    "![roc_auc](img/roc_auc.PNG)"
   ]
  },
  {
   "cell_type": "markdown",
   "metadata": {},
   "source": [
    " ## -------------------------------------------------------------------------------------------------------------------------------"
   ]
  },
  {
   "cell_type": "markdown",
   "metadata": {},
   "source": [
    "# Quantum Computing Part\n",
    "\n",
    "\n",
    "\n",
    "1) implement a simple quantum operation with Cirq\n",
    "\n",
    "    a)With 5 qubits     \n",
    "    b)Apply Hadamard operation on every qubit\n",
    "    c)Apply CNOT operation on (0, 1), (1,2), (2,3), (3,4)\n",
    "    d)SWAP (0, 4)\n",
    "    e)Rotate X with pi/2\n",
    "    f)Plot the circuit\n"
   ]
  },
  {
   "cell_type": "code",
   "execution_count": null,
   "metadata": {},
   "outputs": [],
   "source": [
    "import cirq\n",
    "from cirq.ops import CNOT\n",
    "import numpy as np"
   ]
  },
  {
   "cell_type": "code",
   "execution_count": null,
   "metadata": {},
   "outputs": [],
   "source": [
    "q0, q1, q2, q3, q4 = (cirq.GridQubit(0,0), cirq.GridQubit(0,1), cirq.GridQubit(0,2), cirq.GridQubit(0,3), cirq.GridQubit(0,4))\n",
    "\n",
    "qubits = [q0,q1,q2,q3,q4]"
   ]
  },
  {
   "cell_type": "code",
   "execution_count": null,
   "metadata": {},
   "outputs": [],
   "source": [
    "circuit = cirq.Circuit()"
   ]
  },
  {
   "cell_type": "code",
   "execution_count": null,
   "metadata": {},
   "outputs": [],
   "source": [
    "circuit.append(cirq.H(q) for q in qubits)   # Apply Hadamard operation on each qubit"
   ]
  },
  {
   "cell_type": "code",
   "execution_count": null,
   "metadata": {},
   "outputs": [],
   "source": [
    "circuit.append(CNOT.on(q0,q1))              # CNOT operation on qubit first two qubits\n",
    "circuit.append(cirq.rx(np.pi/2).on(q1))     # Rotate X by pi/2\n",
    "circuit.append(CNOT.on(q1,q2))   \n",
    "circuit.append(cirq.rx(np.pi/2).on(q2))\n",
    "circuit.append(CNOT.on(q2,q3))\n",
    "circuit.append(cirq.rx(np.pi/2).on(q3))   \n",
    "circuit.append(CNOT.on(q3,q4))   \n",
    "circuit.append(cirq.rx(np.pi/2).on(q4))  "
   ]
  },
  {
   "cell_type": "code",
   "execution_count": null,
   "metadata": {},
   "outputs": [],
   "source": [
    "circuit.append(cirq.SWAP(q0,q3))            # SWAP (0,4)"
   ]
  },
  {
   "cell_type": "code",
   "execution_count": null,
   "metadata": {
    "scrolled": true
   },
   "outputs": [],
   "source": [
    "print(circuit)                              #Plot the circuit"
   ]
  },
  {
   "attachments": {},
   "cell_type": "markdown",
   "metadata": {},
   "source": [
    "![Capture](img/Capture.PNG)"
   ]
  },
  {
   "cell_type": "markdown",
   "metadata": {},
   "source": [
    "2) Create a circuit that is a series of small cirq.Rx rotations and plot the probability of measuring the state in the |0⟩          state. For example, for a qubit, at first, you can rotate 0.1 degree, you get one probability of measuring the state in the      |0⟩ state; then you rotate another 0.1 degree in addition, you get another probability; then you another 0.1 degree and so       on."
   ]
  },
  {
   "cell_type": "code",
   "execution_count": null,
   "metadata": {},
   "outputs": [],
   "source": [
    "import cirq\n",
    "import numpy as np\n",
    "from cirq import Simulator\n",
    "\n",
    "q = cirq.NamedQubit('qubit')        #qubit\n",
    "degree = 0.1*np.pi/180              #rotate 0.1 degree\n",
    "for i in range(10):\n",
    "    circuit = cirq.Circuit(cirq.rx(degree).on(q), cirq.measure(q))\n",
    "    degree+=degree\n",
    "    print(circuit)\n",
    "    simulator = Simulator()         \n",
    "    result = simulator.run(circuit, repetitions=100)\n",
    "    print(result.histogram(key='qubit'))"
   ]
  },
  {
   "cell_type": "markdown",
   "metadata": {},
   "source": [
    "qubit: ───Rx(0.001π)───M───\n",
    "Counter({0: 100})\n",
    "\n",
    "qubit: ───Rx(0.001π)───M───\n",
    "Counter({0: 100})\n",
    "\n",
    "qubit: ───Rx(0.002π)───M───\n",
    "Counter({0: 100})\n",
    "\n",
    "qubit: ───Rx(0.004π)───M───\n",
    "Counter({0: 100})\n",
    "\n",
    "qubit: ───Rx(0.009π)───M───\n",
    "Counter({0: 100})\n",
    "\n",
    "qubit: ───Rx(0.018π)───M───\n",
    "Counter({0: 100})\n",
    "\n",
    "qubit: ───Rx(0.036π)───M───\n",
    "Counter({0: 100})\n",
    "\n",
    "qubit: ───Rx(0.071π)───M───\n",
    "Counter({0: 99, 1: 1})\n",
    "\n",
    "qubit: ───Rx(0.142π)───M───\n",
    "Counter({0: 94, 1: 6})\n",
    "\n",
    "qubit: ───Rx(0.284π)───M───\n",
    "Counter({0: 86, 1: 14})"
   ]
  },
  {
   "cell_type": "code",
   "execution_count": null,
   "metadata": {},
   "outputs": [],
   "source": []
  }
 ],
 "metadata": {
  "kernelspec": {
   "display_name": "Python 3",
   "language": "python",
   "name": "python3"
  },
  "language_info": {
   "codemirror_mode": {
    "name": "ipython",
    "version": 3
   },
   "file_extension": ".py",
   "mimetype": "text/x-python",
   "name": "python",
   "nbconvert_exporter": "python",
   "pygments_lexer": "ipython3",
   "version": "3.7.6"
  }
 },
 "nbformat": 4,
 "nbformat_minor": 4
}
